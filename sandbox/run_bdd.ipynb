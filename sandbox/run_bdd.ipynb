{
 "cells": [
  {
   "cell_type": "code",
   "execution_count": 6,
   "metadata": {},
   "outputs": [],
   "source": [
    "\n",
    "\"\"\" run_bdd.py\n",
    "\n",
    "Run example:\n",
    "run_bdd.py --USE_PARALLEL False --METRICS Hota --TRACKERS_TO_EVAL qdtrack\n",
    "\n",
    "Command Line Arguments: Defaults, # Comments\n",
    "    Eval arguments:\n",
    "        'USE_PARALLEL': False,\n",
    "        'NUM_PARALLEL_CORES': 8,\n",
    "        'BREAK_ON_ERROR': True,\n",
    "        'PRINT_RESULTS': True,\n",
    "        'PRINT_ONLY_COMBINED': False,\n",
    "        'PRINT_CONFIG': True,\n",
    "        'TIME_PROGRESS': True,\n",
    "        'OUTPUT_SUMMARY': True,\n",
    "        'OUTPUT_DETAILED': True,\n",
    "        'PLOT_CURVES': True,\n",
    "    Dataset arguments:\n",
    "            'GT_FOLDER': os.path.join(code_path, 'data/gt/bdd100k/bdd100k_val'),  # Location of GT data\n",
    "            'TRACKERS_FOLDER': os.path.join(code_path, 'data/trackers/bdd100k/bdd100k_val'),  # Trackers location\n",
    "            'OUTPUT_FOLDER': None,  # Where to save eval results (if None, same as TRACKERS_FOLDER)\n",
    "            'TRACKERS_TO_EVAL': None,  # Filenames of trackers to eval (if None, all in folder)\n",
    "            'CLASSES_TO_EVAL': ['pedestrian', 'rider', 'car', 'bus', 'truck', 'train', 'motorcycle', 'bicycle'],\n",
    "            # Valid: ['pedestrian', 'rider', 'car', 'bus', 'truck', 'train', 'motorcycle', 'bicycle']\n",
    "            'SPLIT_TO_EVAL': 'val',  # Valid: 'training', 'val',\n",
    "            'INPUT_AS_ZIP': False,  # Whether tracker input files are zipped\n",
    "            'PRINT_CONFIG': True,  # Whether to print current config\n",
    "            'TRACKER_SUB_FOLDER': 'data',  # Tracker files are in TRACKER_FOLDER/tracker_name/TRACKER_SUB_FOLDER\n",
    "            'OUTPUT_SUB_FOLDER': '',  # Output files are saved in OUTPUT_FOLDER/tracker_name/OUTPUT_SUB_FOLDER\n",
    "            'TRACKER_DISPLAY_NAMES': None,  # Names of trackers to display, if None: TRACKERS_TO_EVAL\n",
    "    Metric arguments:\n",
    "        'METRICS': ['Hota','Clear', 'ID', 'Count']\n",
    "\"\"\"\n",
    "\n",
    "import sys\n",
    "import os\n",
    "import argparse\n",
    "from multiprocessing import freeze_support\n",
    "\n",
    "sys.path.append('../')\n",
    "import trackeval  # noqa: E402"
   ]
  },
  {
   "cell_type": "code",
   "execution_count": 10,
   "metadata": {},
   "outputs": [
    {
     "name": "stdout",
     "output_type": "stream",
     "text": [
      "USE_PARALLEL False\n",
      "NUM_PARALLEL_CORES 8\n",
      "BREAK_ON_ERROR True\n",
      "RETURN_ON_ERROR False\n",
      "LOG_ON_ERROR /home/guest/dev_repo/MOT_eval/TrackEval/error_log.txt\n",
      "PRINT_RESULTS True\n",
      "PRINT_ONLY_COMBINED True\n",
      "PRINT_CONFIG True\n",
      "TIME_PROGRESS True\n",
      "DISPLAY_LESS_PROGRESS True\n",
      "OUTPUT_SUMMARY True\n",
      "OUTPUT_EMPTY_CLASSES True\n",
      "OUTPUT_DETAILED True\n",
      "PLOT_CURVES True\n",
      "GT_FOLDER /home/guest/dev_repo/MOT_eval/TrackEval/data/gt/bdd100k/bdd100k_val\n",
      "TRACKERS_FOLDER /home/guest/dev_repo/MOT_eval/TrackEval/data/trackers/bdd100k/bdd100k_val\n",
      "OUTPUT_FOLDER None\n",
      "TRACKERS_TO_EVAL None\n",
      "CLASSES_TO_EVAL ['pedestrian', 'rider', 'car', 'bus', 'truck', 'train', 'motorcycle', 'bicycle']\n",
      "SPLIT_TO_EVAL val\n",
      "INPUT_AS_ZIP False\n",
      "TRACKER_SUB_FOLDER data\n",
      "OUTPUT_SUB_FOLDER \n",
      "TRACKER_DISPLAY_NAMES None\n",
      "METRICS ['HOTA', 'CLEAR', 'Identity']\n"
     ]
    }
   ],
   "source": [
    "# if __name__ == '__main__':\n",
    "# Command line interface:\n",
    "default_eval_config = trackeval.Evaluator.get_default_eval_config()\n",
    "default_eval_config['PRINT_ONLY_COMBINED'] = True\n",
    "default_dataset_config = trackeval.datasets.BDD100K.get_default_dataset_config()\n",
    "default_metrics_config = {'METRICS': ['HOTA', 'CLEAR', 'Identity']}\n",
    "config = {**default_eval_config, **default_dataset_config, **default_metrics_config}  # Merge default configs\n",
    "parser = argparse.ArgumentParser()\n",
    "for setting in config.keys():\n",
    "    # if type(config[setting]) == list or type(config[setting]) == type(None):\n",
    "    print(setting, config[setting])\n"
   ]
  },
  {
   "cell_type": "code",
   "execution_count": 9,
   "metadata": {},
   "outputs": [
    {
     "data": {
      "text/plain": [
       "dict_keys(['USE_PARALLEL', 'NUM_PARALLEL_CORES', 'BREAK_ON_ERROR', 'RETURN_ON_ERROR', 'LOG_ON_ERROR', 'PRINT_RESULTS', 'PRINT_ONLY_COMBINED', 'PRINT_CONFIG', 'TIME_PROGRESS', 'DISPLAY_LESS_PROGRESS', 'OUTPUT_SUMMARY', 'OUTPUT_EMPTY_CLASSES', 'OUTPUT_DETAILED', 'PLOT_CURVES', 'GT_FOLDER', 'TRACKERS_FOLDER', 'OUTPUT_FOLDER', 'TRACKERS_TO_EVAL', 'CLASSES_TO_EVAL', 'SPLIT_TO_EVAL', 'INPUT_AS_ZIP', 'TRACKER_SUB_FOLDER', 'OUTPUT_SUB_FOLDER', 'TRACKER_DISPLAY_NAMES', 'METRICS'])"
      ]
     },
     "execution_count": 9,
     "metadata": {},
     "output_type": "execute_result"
    }
   ],
   "source": [
    "config.keys()"
   ]
  },
  {
   "cell_type": "code",
   "execution_count": null,
   "metadata": {},
   "outputs": [],
   "source": []
  }
 ],
 "metadata": {
  "kernelspec": {
   "display_name": "Python 3.8.12 ('base_atom')",
   "language": "python",
   "name": "python3"
  },
  "language_info": {
   "codemirror_mode": {
    "name": "ipython",
    "version": 3
   },
   "file_extension": ".py",
   "mimetype": "text/x-python",
   "name": "python",
   "nbconvert_exporter": "python",
   "pygments_lexer": "ipython3",
   "version": "3.8.12"
  },
  "orig_nbformat": 4,
  "vscode": {
   "interpreter": {
    "hash": "47bcc98a91e0639070087bf2bbd0f353a7498108652c8107efb5221696e92166"
   }
  }
 },
 "nbformat": 4,
 "nbformat_minor": 2
}
